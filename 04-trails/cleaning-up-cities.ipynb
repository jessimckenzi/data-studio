{
 "cells": [
  {
   "cell_type": "code",
   "execution_count": 18,
   "metadata": {},
   "outputs": [],
   "source": [
    "import pandas as pd"
   ]
  },
  {
   "cell_type": "code",
   "execution_count": 19,
   "metadata": {},
   "outputs": [],
   "source": [
    "df = pd.read_csv(\"500_Cities__City-level_Data__GIS_Friendly_Format___2017_release.csv\")"
   ]
  },
  {
   "cell_type": "code",
   "execution_count": 20,
   "metadata": {},
   "outputs": [],
   "source": [
    "import re"
   ]
  },
  {
   "cell_type": "code",
   "execution_count": 21,
   "metadata": {},
   "outputs": [
    {
     "data": {
      "text/html": [
       "<div>\n",
       "<style scoped>\n",
       "    .dataframe tbody tr th:only-of-type {\n",
       "        vertical-align: middle;\n",
       "    }\n",
       "\n",
       "    .dataframe tbody tr th {\n",
       "        vertical-align: top;\n",
       "    }\n",
       "\n",
       "    .dataframe thead th {\n",
       "        text-align: right;\n",
       "    }\n",
       "</style>\n",
       "<table border=\"1\" class=\"dataframe\">\n",
       "  <thead>\n",
       "    <tr style=\"text-align: right;\">\n",
       "      <th></th>\n",
       "      <th>StateAbbr</th>\n",
       "      <th>PlaceName</th>\n",
       "      <th>PlaceFIPS</th>\n",
       "      <th>Population2010</th>\n",
       "      <th>ACCESS2_CrudePrev</th>\n",
       "      <th>ACCESS2_Crude95CI</th>\n",
       "      <th>ACCESS2_AdjPrev</th>\n",
       "      <th>ACCESS2_Adj95CI</th>\n",
       "      <th>ARTHRITIS_CrudePrev</th>\n",
       "      <th>ARTHRITIS_Crude95CI</th>\n",
       "      <th>...</th>\n",
       "      <th>SLEEP_Adj95CI</th>\n",
       "      <th>STROKE_CrudePrev</th>\n",
       "      <th>STROKE_Crude95CI</th>\n",
       "      <th>STROKE_AdjPrev</th>\n",
       "      <th>STROKE_Adj95CI</th>\n",
       "      <th>TEETHLOST_CrudePrev</th>\n",
       "      <th>TEETHLOST_Crude95CI</th>\n",
       "      <th>TEETHLOST_AdjPrev</th>\n",
       "      <th>TEETHLOST_Adj95CI</th>\n",
       "      <th>Geolocation</th>\n",
       "    </tr>\n",
       "  </thead>\n",
       "  <tbody>\n",
       "    <tr>\n",
       "      <th>0</th>\n",
       "      <td>AL</td>\n",
       "      <td>Birmingham</td>\n",
       "      <td>107000</td>\n",
       "      <td>212237</td>\n",
       "      <td>19.6</td>\n",
       "      <td>(19.2, 20.0)</td>\n",
       "      <td>19.8</td>\n",
       "      <td>(19.5, 20.2)</td>\n",
       "      <td>30.9</td>\n",
       "      <td>(30.8, 31.1)</td>\n",
       "      <td>...</td>\n",
       "      <td>(46.6, 47.0)</td>\n",
       "      <td>5.2</td>\n",
       "      <td>( 5.1,  5.3)</td>\n",
       "      <td>5.2</td>\n",
       "      <td>( 5.1,  5.2)</td>\n",
       "      <td>26.1</td>\n",
       "      <td>(25.1, 27.2)</td>\n",
       "      <td>25.9</td>\n",
       "      <td>(25.0, 26.9)</td>\n",
       "      <td>(33.52756637730, -86.7988174678)</td>\n",
       "    </tr>\n",
       "    <tr>\n",
       "      <th>1</th>\n",
       "      <td>AL</td>\n",
       "      <td>Hoover</td>\n",
       "      <td>135896</td>\n",
       "      <td>81619</td>\n",
       "      <td>9.7</td>\n",
       "      <td>( 9.3, 10.1)</td>\n",
       "      <td>9.9</td>\n",
       "      <td>( 9.5, 10.4)</td>\n",
       "      <td>25.3</td>\n",
       "      <td>(25.0, 25.7)</td>\n",
       "      <td>...</td>\n",
       "      <td>(34.2, 35.0)</td>\n",
       "      <td>2.2</td>\n",
       "      <td>( 2.1,  2.3)</td>\n",
       "      <td>2.2</td>\n",
       "      <td>( 2.1,  2.2)</td>\n",
       "      <td>9.6</td>\n",
       "      <td>( 8.6, 10.8)</td>\n",
       "      <td>9.5</td>\n",
       "      <td>( 8.5, 10.9)</td>\n",
       "      <td>(33.37676027290, -86.8051937568)</td>\n",
       "    </tr>\n",
       "    <tr>\n",
       "      <th>2</th>\n",
       "      <td>AL</td>\n",
       "      <td>Huntsville</td>\n",
       "      <td>137000</td>\n",
       "      <td>180105</td>\n",
       "      <td>15.1</td>\n",
       "      <td>(14.7, 15.4)</td>\n",
       "      <td>15.1</td>\n",
       "      <td>(14.8, 15.5)</td>\n",
       "      <td>27.5</td>\n",
       "      <td>(27.3, 27.7)</td>\n",
       "      <td>...</td>\n",
       "      <td>(39.4, 40.0)</td>\n",
       "      <td>3.4</td>\n",
       "      <td>( 3.3,  3.4)</td>\n",
       "      <td>3.3</td>\n",
       "      <td>( 3.2,  3.3)</td>\n",
       "      <td>14.9</td>\n",
       "      <td>(14.1, 15.7)</td>\n",
       "      <td>14.7</td>\n",
       "      <td>(13.8, 15.5)</td>\n",
       "      <td>(34.69896926710, -86.6387042882)</td>\n",
       "    </tr>\n",
       "    <tr>\n",
       "      <th>3</th>\n",
       "      <td>AL</td>\n",
       "      <td>Mobile</td>\n",
       "      <td>150000</td>\n",
       "      <td>195111</td>\n",
       "      <td>16.9</td>\n",
       "      <td>(16.6, 17.2)</td>\n",
       "      <td>17.2</td>\n",
       "      <td>(16.9, 17.5)</td>\n",
       "      <td>30.5</td>\n",
       "      <td>(30.3, 30.6)</td>\n",
       "      <td>...</td>\n",
       "      <td>(42.0, 42.4)</td>\n",
       "      <td>4.4</td>\n",
       "      <td>( 4.3,  4.5)</td>\n",
       "      <td>4.1</td>\n",
       "      <td>( 4.1,  4.2)</td>\n",
       "      <td>24.3</td>\n",
       "      <td>(23.4, 25.3)</td>\n",
       "      <td>24.1</td>\n",
       "      <td>(23.1, 25.0)</td>\n",
       "      <td>(30.67762486480, -88.1184482714)</td>\n",
       "    </tr>\n",
       "    <tr>\n",
       "      <th>4</th>\n",
       "      <td>AL</td>\n",
       "      <td>Montgomery</td>\n",
       "      <td>151000</td>\n",
       "      <td>205764</td>\n",
       "      <td>17.4</td>\n",
       "      <td>(17.0, 17.9)</td>\n",
       "      <td>17.5</td>\n",
       "      <td>(17.1, 17.9)</td>\n",
       "      <td>29.8</td>\n",
       "      <td>(29.7, 30.0)</td>\n",
       "      <td>...</td>\n",
       "      <td>(41.0, 41.5)</td>\n",
       "      <td>4.1</td>\n",
       "      <td>( 4.1,  4.2)</td>\n",
       "      <td>4.2</td>\n",
       "      <td>( 4.1,  4.3)</td>\n",
       "      <td>21.2</td>\n",
       "      <td>(20.3, 22.2)</td>\n",
       "      <td>21.2</td>\n",
       "      <td>(20.1, 22.2)</td>\n",
       "      <td>(32.34726453330, -86.2677059552)</td>\n",
       "    </tr>\n",
       "  </tbody>\n",
       "</table>\n",
       "<p>5 rows × 117 columns</p>\n",
       "</div>"
      ],
      "text/plain": [
       "  StateAbbr   PlaceName  PlaceFIPS  Population2010  ACCESS2_CrudePrev  \\\n",
       "0        AL  Birmingham     107000          212237               19.6   \n",
       "1        AL      Hoover     135896           81619                9.7   \n",
       "2        AL  Huntsville     137000          180105               15.1   \n",
       "3        AL      Mobile     150000          195111               16.9   \n",
       "4        AL  Montgomery     151000          205764               17.4   \n",
       "\n",
       "  ACCESS2_Crude95CI  ACCESS2_AdjPrev ACCESS2_Adj95CI  ARTHRITIS_CrudePrev  \\\n",
       "0      (19.2, 20.0)             19.8    (19.5, 20.2)                 30.9   \n",
       "1      ( 9.3, 10.1)              9.9    ( 9.5, 10.4)                 25.3   \n",
       "2      (14.7, 15.4)             15.1    (14.8, 15.5)                 27.5   \n",
       "3      (16.6, 17.2)             17.2    (16.9, 17.5)                 30.5   \n",
       "4      (17.0, 17.9)             17.5    (17.1, 17.9)                 29.8   \n",
       "\n",
       "  ARTHRITIS_Crude95CI                ...                 SLEEP_Adj95CI  \\\n",
       "0        (30.8, 31.1)                ...                  (46.6, 47.0)   \n",
       "1        (25.0, 25.7)                ...                  (34.2, 35.0)   \n",
       "2        (27.3, 27.7)                ...                  (39.4, 40.0)   \n",
       "3        (30.3, 30.6)                ...                  (42.0, 42.4)   \n",
       "4        (29.7, 30.0)                ...                  (41.0, 41.5)   \n",
       "\n",
       "  STROKE_CrudePrev  STROKE_Crude95CI STROKE_AdjPrev  STROKE_Adj95CI  \\\n",
       "0              5.2      ( 5.1,  5.3)            5.2    ( 5.1,  5.2)   \n",
       "1              2.2      ( 2.1,  2.3)            2.2    ( 2.1,  2.2)   \n",
       "2              3.4      ( 3.3,  3.4)            3.3    ( 3.2,  3.3)   \n",
       "3              4.4      ( 4.3,  4.5)            4.1    ( 4.1,  4.2)   \n",
       "4              4.1      ( 4.1,  4.2)            4.2    ( 4.1,  4.3)   \n",
       "\n",
       "  TEETHLOST_CrudePrev  TEETHLOST_Crude95CI TEETHLOST_AdjPrev  \\\n",
       "0                26.1         (25.1, 27.2)              25.9   \n",
       "1                 9.6         ( 8.6, 10.8)               9.5   \n",
       "2                14.9         (14.1, 15.7)              14.7   \n",
       "3                24.3         (23.4, 25.3)              24.1   \n",
       "4                21.2         (20.3, 22.2)              21.2   \n",
       "\n",
       "   TEETHLOST_Adj95CI                       Geolocation  \n",
       "0       (25.0, 26.9)  (33.52756637730, -86.7988174678)  \n",
       "1       ( 8.5, 10.9)  (33.37676027290, -86.8051937568)  \n",
       "2       (13.8, 15.5)  (34.69896926710, -86.6387042882)  \n",
       "3       (23.1, 25.0)  (30.67762486480, -88.1184482714)  \n",
       "4       (20.1, 22.2)  (32.34726453330, -86.2677059552)  \n",
       "\n",
       "[5 rows x 117 columns]"
      ]
     },
     "execution_count": 21,
     "metadata": {},
     "output_type": "execute_result"
    }
   ],
   "source": [
    "df.head()"
   ]
  },
  {
   "cell_type": "code",
   "execution_count": 22,
   "metadata": {},
   "outputs": [
    {
     "data": {
      "text/plain": [
       "0    (33.52756637730, -86.7988174678)\n",
       "1    (33.37676027290, -86.8051937568)\n",
       "2    (34.69896926710, -86.6387042882)\n",
       "3    (30.67762486480, -88.1184482714)\n",
       "4    (32.34726453330, -86.2677059552)\n",
       "Name: Geolocation, dtype: object"
      ]
     },
     "execution_count": 22,
     "metadata": {},
     "output_type": "execute_result"
    }
   ],
   "source": [
    "df['Geolocation'].head()"
   ]
  },
  {
   "cell_type": "code",
   "execution_count": 23,
   "metadata": {},
   "outputs": [],
   "source": [
    "df['latitude'] = df.Geolocation.str.extract(r\"^[(](.*[.].*),\")"
   ]
  },
  {
   "cell_type": "code",
   "execution_count": 24,
   "metadata": {},
   "outputs": [
    {
     "data": {
      "text/plain": [
       "0    33.52756637730\n",
       "1    33.37676027290\n",
       "2    34.69896926710\n",
       "3    30.67762486480\n",
       "4    32.34726453330\n",
       "Name: latitude, dtype: object"
      ]
     },
     "execution_count": 24,
     "metadata": {},
     "output_type": "execute_result"
    }
   ],
   "source": [
    "df.latitude.head()"
   ]
  },
  {
   "cell_type": "code",
   "execution_count": 25,
   "metadata": {},
   "outputs": [],
   "source": [
    "df['longitude'] = df.Geolocation.str.extract(r\"([-].*[.].*)[)]\")"
   ]
  },
  {
   "cell_type": "code",
   "execution_count": 26,
   "metadata": {},
   "outputs": [
    {
     "data": {
      "text/plain": [
       "0    -86.7988174678\n",
       "1    -86.8051937568\n",
       "2    -86.6387042882\n",
       "3    -88.1184482714\n",
       "4    -86.2677059552\n",
       "Name: longitude, dtype: object"
      ]
     },
     "execution_count": 26,
     "metadata": {},
     "output_type": "execute_result"
    }
   ],
   "source": [
    "df.longitude.head()"
   ]
  },
  {
   "cell_type": "code",
   "execution_count": 27,
   "metadata": {},
   "outputs": [],
   "source": [
    "df.to_csv(\"cities_with_geo.csv\", index=False)"
   ]
  },
  {
   "cell_type": "code",
   "execution_count": null,
   "metadata": {},
   "outputs": [],
   "source": []
  },
  {
   "cell_type": "code",
   "execution_count": null,
   "metadata": {},
   "outputs": [],
   "source": []
  },
  {
   "cell_type": "code",
   "execution_count": null,
   "metadata": {},
   "outputs": [],
   "source": []
  }
 ],
 "metadata": {
  "kernelspec": {
   "display_name": "Python 3",
   "language": "python",
   "name": "python3"
  },
  "language_info": {
   "codemirror_mode": {
    "name": "ipython",
    "version": 3
   },
   "file_extension": ".py",
   "mimetype": "text/x-python",
   "name": "python",
   "nbconvert_exporter": "python",
   "pygments_lexer": "ipython3",
   "version": "3.6.5"
  }
 },
 "nbformat": 4,
 "nbformat_minor": 2
}
