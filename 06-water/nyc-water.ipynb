{
 "cells": [
  {
   "cell_type": "code",
   "execution_count": 1,
   "metadata": {},
   "outputs": [],
   "source": [
    "import pandas as pd"
   ]
  },
  {
   "cell_type": "code",
   "execution_count": 2,
   "metadata": {},
   "outputs": [],
   "source": [
    "df = pd.read_csv(\"Water_Consumption_In_The_New_York_City.csv\")"
   ]
  },
  {
   "cell_type": "code",
   "execution_count": 6,
   "metadata": {},
   "outputs": [
    {
     "data": {
      "text/html": [
       "<div>\n",
       "<style scoped>\n",
       "    .dataframe tbody tr th:only-of-type {\n",
       "        vertical-align: middle;\n",
       "    }\n",
       "\n",
       "    .dataframe tbody tr th {\n",
       "        vertical-align: top;\n",
       "    }\n",
       "\n",
       "    .dataframe thead th {\n",
       "        text-align: right;\n",
       "    }\n",
       "</style>\n",
       "<table border=\"1\" class=\"dataframe\">\n",
       "  <thead>\n",
       "    <tr style=\"text-align: right;\">\n",
       "      <th></th>\n",
       "      <th>Year</th>\n",
       "      <th>New York City Population</th>\n",
       "      <th>NYC Consumption(Million gallons per day)</th>\n",
       "      <th>Per Capita(Gallons per person per day)</th>\n",
       "    </tr>\n",
       "  </thead>\n",
       "  <tbody>\n",
       "    <tr>\n",
       "      <th>0</th>\n",
       "      <td>1979</td>\n",
       "      <td>7102100.0</td>\n",
       "      <td>1512.0</td>\n",
       "      <td>213</td>\n",
       "    </tr>\n",
       "    <tr>\n",
       "      <th>1</th>\n",
       "      <td>1980</td>\n",
       "      <td>7071639.0</td>\n",
       "      <td>1506.0</td>\n",
       "      <td>213</td>\n",
       "    </tr>\n",
       "    <tr>\n",
       "      <th>2</th>\n",
       "      <td>1981</td>\n",
       "      <td>7089241.0</td>\n",
       "      <td>1309.0</td>\n",
       "      <td>185</td>\n",
       "    </tr>\n",
       "    <tr>\n",
       "      <th>3</th>\n",
       "      <td>1982</td>\n",
       "      <td>7109105.0</td>\n",
       "      <td>1382.0</td>\n",
       "      <td>194</td>\n",
       "    </tr>\n",
       "    <tr>\n",
       "      <th>4</th>\n",
       "      <td>1983</td>\n",
       "      <td>7181224.0</td>\n",
       "      <td>1424.0</td>\n",
       "      <td>198</td>\n",
       "    </tr>\n",
       "  </tbody>\n",
       "</table>\n",
       "</div>"
      ],
      "text/plain": [
       "   Year  New York City Population  NYC Consumption(Million gallons per day)  \\\n",
       "0  1979                 7102100.0                                    1512.0   \n",
       "1  1980                 7071639.0                                    1506.0   \n",
       "2  1981                 7089241.0                                    1309.0   \n",
       "3  1982                 7109105.0                                    1382.0   \n",
       "4  1983                 7181224.0                                    1424.0   \n",
       "\n",
       "   Per Capita(Gallons per person per day)  \n",
       "0                                     213  \n",
       "1                                     213  \n",
       "2                                     185  \n",
       "3                                     194  \n",
       "4                                     198  "
      ]
     },
     "execution_count": 6,
     "metadata": {},
     "output_type": "execute_result"
    }
   ],
   "source": [
    "df.head()"
   ]
  },
  {
   "cell_type": "code",
   "execution_count": 9,
   "metadata": {},
   "outputs": [
    {
     "data": {
      "text/plain": [
       "<matplotlib.axes._subplots.AxesSubplot at 0x10650e160>"
      ]
     },
     "execution_count": 9,
     "metadata": {},
     "output_type": "execute_result"
    },
    {
     "data": {
      "image/png": "[encoded data removed]",
      "text/plain": [
       "<Figure size 432x288 with 1 Axes>"
      ]
     },
     "metadata": {},
     "output_type": "display_data"
    }
   ],
   "source": [
    "df.plot(x='Year', y='NYC Consumption(Million gallons per day)', kind='bar')"
   ]
  },
  {
   "cell_type": "code",
   "execution_count": 10,
   "metadata": {},
   "outputs": [
    {
     "data": {
      "text/plain": [
       "<matplotlib.axes._subplots.AxesSubplot at 0x10672f160>"
      ]
     },
     "execution_count": 10,
     "metadata": {},
     "output_type": "execute_result"
    },
    {
     "data": {
      "image/png": "[encoded data removed]",
      "text/plain": [
       "<Figure size 432x288 with 1 Axes>"
      ]
     },
     "metadata": {},
     "output_type": "display_data"
    }
   ],
   "source": [
    "df.plot(x='Year', y='Per Capita(Gallons per person per day)', kind='bar')"
   ]
  },
  {
   "cell_type": "code",
   "execution_count": 11,
   "metadata": {},
   "outputs": [],
   "source": [
    "df2 = pd.read_csv(\"Water_Quality_complaints.csv\")"
   ]
  },
  {
   "cell_type": "code",
   "execution_count": 12,
   "metadata": {},
   "outputs": [
    {
     "data": {
      "text/plain": [
       "(10472, 38)"
      ]
     },
     "execution_count": 12,
     "metadata": {},
     "output_type": "execute_result"
    }
   ],
   "source": [
    "df2.shape"
   ]
  },
  {
   "cell_type": "code",
   "execution_count": 13,
   "metadata": {},
   "outputs": [
    {
     "data": {
      "text/html": [
       "<div>\n",
       "<style scoped>\n",
       "    .dataframe tbody tr th:only-of-type {\n",
       "        vertical-align: middle;\n",
       "    }\n",
       "\n",
       "    .dataframe tbody tr th {\n",
       "        vertical-align: top;\n",
       "    }\n",
       "\n",
       "    .dataframe thead th {\n",
       "        text-align: right;\n",
       "    }\n",
       "</style>\n",
       "<table border=\"1\" class=\"dataframe\">\n",
       "  <thead>\n",
       "    <tr style=\"text-align: right;\">\n",
       "      <th></th>\n",
       "      <th>Unique Key</th>\n",
       "      <th>Created Date</th>\n",
       "      <th>Closed Date</th>\n",
       "      <th>Agency</th>\n",
       "      <th>Agency Name</th>\n",
       "      <th>Complaint Type</th>\n",
       "      <th>Descriptor</th>\n",
       "      <th>Location Type</th>\n",
       "      <th>Incident Zip</th>\n",
       "      <th>Incident Address</th>\n",
       "      <th>...</th>\n",
       "      <th>Vehicle Type</th>\n",
       "      <th>Taxi Company Borough</th>\n",
       "      <th>Taxi Pick Up Location</th>\n",
       "      <th>Bridge Highway Name</th>\n",
       "      <th>Bridge Highway Direction</th>\n",
       "      <th>Road Ramp</th>\n",
       "      <th>Bridge Highway Segment</th>\n",
       "      <th>Latitude</th>\n",
       "      <th>Longitude</th>\n",
       "      <th>Location</th>\n",
       "    </tr>\n",
       "  </thead>\n",
       "  <tbody>\n",
       "    <tr>\n",
       "      <th>0</th>\n",
       "      <td>40001026</td>\n",
       "      <td>08/13/2018 10:14:00 AM</td>\n",
       "      <td>NaN</td>\n",
       "      <td>DEP</td>\n",
       "      <td>Department of Environmental Protection</td>\n",
       "      <td>Water Quality</td>\n",
       "      <td>Taste/Odor, Musty/Stale (QA4)</td>\n",
       "      <td>NaN</td>\n",
       "      <td>10024.0</td>\n",
       "      <td>175 WEST   79 STREET</td>\n",
       "      <td>...</td>\n",
       "      <td>NaN</td>\n",
       "      <td>NaN</td>\n",
       "      <td>NaN</td>\n",
       "      <td>NaN</td>\n",
       "      <td>NaN</td>\n",
       "      <td>NaN</td>\n",
       "      <td>NaN</td>\n",
       "      <td>40.782770</td>\n",
       "      <td>-73.977406</td>\n",
       "      <td>(40.78277034439117, -73.97740637857073)</td>\n",
       "    </tr>\n",
       "    <tr>\n",
       "      <th>1</th>\n",
       "      <td>39999618</td>\n",
       "      <td>08/12/2018 11:28:00 PM</td>\n",
       "      <td>NaN</td>\n",
       "      <td>DEP</td>\n",
       "      <td>Department of Environmental Protection</td>\n",
       "      <td>Water Quality</td>\n",
       "      <td>unknown odor/taste in drinking water (QA6)</td>\n",
       "      <td>NaN</td>\n",
       "      <td>10458.0</td>\n",
       "      <td>398 OLIVER PLACE</td>\n",
       "      <td>...</td>\n",
       "      <td>NaN</td>\n",
       "      <td>NaN</td>\n",
       "      <td>NaN</td>\n",
       "      <td>NaN</td>\n",
       "      <td>NaN</td>\n",
       "      <td>NaN</td>\n",
       "      <td>NaN</td>\n",
       "      <td>40.866484</td>\n",
       "      <td>-73.885237</td>\n",
       "      <td>(40.86648421250015, -73.88523737608806)</td>\n",
       "    </tr>\n",
       "    <tr>\n",
       "      <th>2</th>\n",
       "      <td>39998334</td>\n",
       "      <td>08/13/2018 10:03:00 AM</td>\n",
       "      <td>NaN</td>\n",
       "      <td>DEP</td>\n",
       "      <td>Department of Environmental Protection</td>\n",
       "      <td>Water Quality</td>\n",
       "      <td>Taste/Odor, Sewer (QA5)</td>\n",
       "      <td>NaN</td>\n",
       "      <td>11413.0</td>\n",
       "      <td>231-04 125 AVENUE</td>\n",
       "      <td>...</td>\n",
       "      <td>NaN</td>\n",
       "      <td>NaN</td>\n",
       "      <td>NaN</td>\n",
       "      <td>NaN</td>\n",
       "      <td>NaN</td>\n",
       "      <td>NaN</td>\n",
       "      <td>NaN</td>\n",
       "      <td>40.684650</td>\n",
       "      <td>-73.733739</td>\n",
       "      <td>(40.684649725559204, -73.73373884136217)</td>\n",
       "    </tr>\n",
       "    <tr>\n",
       "      <th>3</th>\n",
       "      <td>39997076</td>\n",
       "      <td>08/13/2018 02:09:00 PM</td>\n",
       "      <td>NaN</td>\n",
       "      <td>DEP</td>\n",
       "      <td>Department of Environmental Protection</td>\n",
       "      <td>Water Quality</td>\n",
       "      <td>Cloudy Or Milky Water (QB1)</td>\n",
       "      <td>NaN</td>\n",
       "      <td>10026.0</td>\n",
       "      <td>40 WEST  115 STREET</td>\n",
       "      <td>...</td>\n",
       "      <td>NaN</td>\n",
       "      <td>NaN</td>\n",
       "      <td>NaN</td>\n",
       "      <td>NaN</td>\n",
       "      <td>NaN</td>\n",
       "      <td>NaN</td>\n",
       "      <td>NaN</td>\n",
       "      <td>40.800670</td>\n",
       "      <td>-73.948657</td>\n",
       "      <td>(40.800670491467685, -73.94865675115344)</td>\n",
       "    </tr>\n",
       "    <tr>\n",
       "      <th>4</th>\n",
       "      <td>39996327</td>\n",
       "      <td>08/13/2018 12:27:00 PM</td>\n",
       "      <td>NaN</td>\n",
       "      <td>DEP</td>\n",
       "      <td>Department of Environmental Protection</td>\n",
       "      <td>Water Quality</td>\n",
       "      <td>Taste/Odor, Musty/Stale (QA4)</td>\n",
       "      <td>NaN</td>\n",
       "      <td>10128.0</td>\n",
       "      <td>200 EAST   94 STREET</td>\n",
       "      <td>...</td>\n",
       "      <td>NaN</td>\n",
       "      <td>NaN</td>\n",
       "      <td>NaN</td>\n",
       "      <td>NaN</td>\n",
       "      <td>NaN</td>\n",
       "      <td>NaN</td>\n",
       "      <td>NaN</td>\n",
       "      <td>40.783742</td>\n",
       "      <td>-73.949952</td>\n",
       "      <td>(40.783741561689716, -73.94995170619957)</td>\n",
       "    </tr>\n",
       "  </tbody>\n",
       "</table>\n",
       "<p>5 rows × 38 columns</p>\n",
       "</div>"
      ],
      "text/plain": [
       "   Unique Key            Created Date Closed Date Agency  \\\n",
       "0    40001026  08/13/2018 10:14:00 AM         NaN    DEP   \n",
       "1    39999618  08/12/2018 11:28:00 PM         NaN    DEP   \n",
       "2    39998334  08/13/2018 10:03:00 AM         NaN    DEP   \n",
       "3    39997076  08/13/2018 02:09:00 PM         NaN    DEP   \n",
       "4    39996327  08/13/2018 12:27:00 PM         NaN    DEP   \n",
       "\n",
       "                              Agency Name Complaint Type  \\\n",
       "0  Department of Environmental Protection  Water Quality   \n",
       "1  Department of Environmental Protection  Water Quality   \n",
       "2  Department of Environmental Protection  Water Quality   \n",
       "3  Department of Environmental Protection  Water Quality   \n",
       "4  Department of Environmental Protection  Water Quality   \n",
       "\n",
       "                                   Descriptor  Location Type  Incident Zip  \\\n",
       "0               Taste/Odor, Musty/Stale (QA4)            NaN       10024.0   \n",
       "1  unknown odor/taste in drinking water (QA6)            NaN       10458.0   \n",
       "2                     Taste/Odor, Sewer (QA5)            NaN       11413.0   \n",
       "3                 Cloudy Or Milky Water (QB1)            NaN       10026.0   \n",
       "4               Taste/Odor, Musty/Stale (QA4)            NaN       10128.0   \n",
       "\n",
       "       Incident Address                    ...                     \\\n",
       "0  175 WEST   79 STREET                    ...                      \n",
       "1      398 OLIVER PLACE                    ...                      \n",
       "2     231-04 125 AVENUE                    ...                      \n",
       "3   40 WEST  115 STREET                    ...                      \n",
       "4  200 EAST   94 STREET                    ...                      \n",
       "\n",
       "  Vehicle Type Taxi Company Borough Taxi Pick Up Location Bridge Highway Name  \\\n",
       "0          NaN                  NaN                   NaN                 NaN   \n",
       "1          NaN                  NaN                   NaN                 NaN   \n",
       "2          NaN                  NaN                   NaN                 NaN   \n",
       "3          NaN                  NaN                   NaN                 NaN   \n",
       "4          NaN                  NaN                   NaN                 NaN   \n",
       "\n",
       "  Bridge Highway Direction Road Ramp Bridge Highway Segment   Latitude  \\\n",
       "0                      NaN       NaN                    NaN  40.782770   \n",
       "1                      NaN       NaN                    NaN  40.866484   \n",
       "2                      NaN       NaN                    NaN  40.684650   \n",
       "3                      NaN       NaN                    NaN  40.800670   \n",
       "4                      NaN       NaN                    NaN  40.783742   \n",
       "\n",
       "   Longitude                                  Location  \n",
       "0 -73.977406   (40.78277034439117, -73.97740637857073)  \n",
       "1 -73.885237   (40.86648421250015, -73.88523737608806)  \n",
       "2 -73.733739  (40.684649725559204, -73.73373884136217)  \n",
       "3 -73.948657  (40.800670491467685, -73.94865675115344)  \n",
       "4 -73.949952  (40.783741561689716, -73.94995170619957)  \n",
       "\n",
       "[5 rows x 38 columns]"
      ]
     },
     "execution_count": 13,
     "metadata": {},
     "output_type": "execute_result"
    }
   ],
   "source": [
    "df2.head()"
   ]
  },
  {
   "cell_type": "code",
   "execution_count": 15,
   "metadata": {},
   "outputs": [
    {
     "data": {
      "text/plain": [
       "Cloudy Or Milky Water (QB1)                                   1612\n",
       "Clear Water With Other Particles (Use Comments) (QEZ)         1172\n",
       "Taste/Odor, Chemical (QA2)                                    1049\n",
       "unknown odor/taste in drinking water (QA6)                     991\n",
       "Taste/Odor, Chlorine (QA1)                                     884\n",
       "Taste/Odor, Bitter/Metallic (QA3)                              880\n",
       "Taste/Odor, Sewer (QA5)                                        799\n",
       "Taste/Odor, Musty/Stale (QA4)                                  777\n",
       "No Sampling Required, Requested Information (QG2)              760\n",
       "Cloudy Or Milky, Other (Use Comments) (QBZ)                    666\n",
       "Other Water Problem (Use Comments) (QZZ)                       321\n",
       "Oil, Grease In Water (QD1)                                     273\n",
       "Defective Water Sampling Station (QSS)                         190\n",
       "Clear Water With Organisms (Insects, Worms) (QE2)               96\n",
       "BWSO Referral To Water Quality (For DEP Internal Use Only)       1\n",
       "Taste/Odor - Musty/Stale                                         1\n",
       "Name: Descriptor, dtype: int64"
      ]
     },
     "execution_count": 15,
     "metadata": {},
     "output_type": "execute_result"
    }
   ],
   "source": [
    "df2['Descriptor'].value_counts()"
   ]
  },
  {
   "cell_type": "code",
   "execution_count": 16,
   "metadata": {},
   "outputs": [
    {
     "data": {
      "text/plain": [
       "10314.0    169\n",
       "10025.0    166\n",
       "11234.0    155\n",
       "10312.0    137\n",
       "10306.0    137\n",
       "11385.0    137\n",
       "11375.0    135\n",
       "10467.0    127\n",
       "11209.0    124\n",
       "10029.0    121\n",
       "11215.0    117\n",
       "11229.0    117\n",
       "11238.0    111\n",
       "11230.0    103\n",
       "10027.0    103\n",
       "11235.0    100\n",
       "11221.0     99\n",
       "11211.0     96\n",
       "10023.0     94\n",
       "10031.0     92\n",
       "11220.0     92\n",
       "10128.0     92\n",
       "10016.0     92\n",
       "10024.0     91\n",
       "11236.0     90\n",
       "11691.0     89\n",
       "11226.0     89\n",
       "11223.0     88\n",
       "11201.0     87\n",
       "10463.0     87\n",
       "          ... \n",
       "11436.0     23\n",
       "10075.0     23\n",
       "10455.0     22\n",
       "10017.0     22\n",
       "10464.0     22\n",
       "11369.0     22\n",
       "10474.0     21\n",
       "11232.0     21\n",
       "11428.0     19\n",
       "11419.0     19\n",
       "11693.0     18\n",
       "11429.0     18\n",
       "10007.0     16\n",
       "11370.0     15\n",
       "10018.0     13\n",
       "11697.0     12\n",
       "10470.0     12\n",
       "10280.0     10\n",
       "11239.0      7\n",
       "10006.0      7\n",
       "11005.0      6\n",
       "11040.0      5\n",
       "10044.0      5\n",
       "10005.0      4\n",
       "10004.0      4\n",
       "10069.0      4\n",
       "10282.0      4\n",
       "11001.0      4\n",
       "10162.0      3\n",
       "10000.0      1\n",
       "Name: Incident Zip, Length: 182, dtype: int64"
      ]
     },
     "execution_count": 16,
     "metadata": {},
     "output_type": "execute_result"
    }
   ],
   "source": [
    "df2['Incident Zip'].value_counts()"
   ]
  },
  {
   "cell_type": "code",
   "execution_count": 17,
   "metadata": {},
   "outputs": [
    {
     "data": {
      "text/plain": [
       "3154 EMMONS AVENUE                       17\n",
       "315 EAST  102 STREET                     14\n",
       "4011 KINGS HIGHWAY                       13\n",
       "3555 BRUCKNER BOULEVARD                  11\n",
       "315 WEST   47 STREET                     11\n",
       "680 81 STREET                            10\n",
       "80 BRUCKNER BOULEVARD                     9\n",
       "88-15 168 STREET                          9\n",
       "57 2 AVENUE                               8\n",
       "68 THAYER STREET                          8\n",
       "624 WEST  139 STREET                      8\n",
       "2113 AVENUE V                             7\n",
       "2307 MORRIS AVENUE                        7\n",
       "85-10 151 AVENUE                          7\n",
       "42-66 PHLOX PLACE                         7\n",
       "2750 HOMECREST AVENUE                     7\n",
       "6820 RIDGE BOULEVARD                      7\n",
       "6802 RIDGE BOULEVARD                      7\n",
       "418 EAST  115 STREET                      7\n",
       "101 WEST  147 STREET                      7\n",
       "3434 KNOX PLACE                           7\n",
       "152 ALBANY AVENUE                         7\n",
       "446 WEST   58 STREET                      7\n",
       "20 RICHMOND PLAZA                         7\n",
       "100 HAMILTON PLACE                        6\n",
       "360 WEST   53 STREET                      6\n",
       "37 GRANITE STREET                         6\n",
       "747 10 AVENUE                             6\n",
       "2255 SEWARD AVENUE                        6\n",
       "61-15 43 AVENUE                           6\n",
       "                                         ..\n",
       "242 WEST  109 STREET                      1\n",
       "64-41 SAUNDERS ST                         1\n",
       "354 EAST   66 STREET                      1\n",
       "81 BAY   28 STREET                        1\n",
       "28-66 208 STREET                          1\n",
       "1347 BRISTOW STREET                       1\n",
       "138-52 234 STREET                         1\n",
       "118-11 15 AVENUE                          1\n",
       "364 EAST  184 STREET                      1\n",
       "21-75 19 STREET                           1\n",
       "111 GLADWIN STREET                        1\n",
       "809 ROSSVILLE AVENUE                      1\n",
       "440 WEST   41 STREET                      1\n",
       "142-26 13 AVENUE                          1\n",
       "1489 EAST    8 STREET                     1\n",
       "24-17 89 STREET                           1\n",
       "280 EAST  161 STREET                      1\n",
       "2375 ADAM CLAYTON POWELL JR BOULEVARD     1\n",
       "269 93 STREET                             1\n",
       "30-12 HOBART STREET                       1\n",
       "239 EAST   80 STREET                      1\n",
       "169-44 24 ROAD                            1\n",
       "85-16 253 STREET                          1\n",
       "207 ALLEN AVENUE                          1\n",
       "430 EAST   89 STREET                      1\n",
       "39-23 58 STREET                           1\n",
       "65-52 77 STREET                           1\n",
       "1501 BROADWAY                             1\n",
       "1815 EAST   17 STREET                     1\n",
       "2535 CRUGER AVENUE                        1\n",
       "Name: Incident Address, Length: 8605, dtype: int64"
      ]
     },
     "execution_count": 17,
     "metadata": {},
     "output_type": "execute_result"
    }
   ],
   "source": [
    "df2['Incident Address'].value_counts()"
   ]
  },
  {
   "cell_type": "code",
   "execution_count": 19,
   "metadata": {},
   "outputs": [
    {
     "data": {
      "text/plain": [
       "10/11/2017 11:47:00 AM    2\n",
       "08/31/2016 12:01:00 PM    2\n",
       "05/29/2012 12:43:00 PM    2\n",
       "12/05/2017 01:59:00 PM    2\n",
       "10/24/2016 11:08:00 AM    2\n",
       "09/24/2012 07:28:00 PM    2\n",
       "02/03/2017 10:54:00 AM    2\n",
       "08/16/2017 05:56:00 PM    2\n",
       "09/10/2013 06:37:00 PM    2\n",
       "12/15/2016 03:24:00 PM    2\n",
       "01/21/2016 02:56:00 PM    2\n",
       "12/24/2016 10:14:00 AM    2\n",
       "02/26/2018 12:31:00 PM    2\n",
       "10/31/2012 01:10:00 PM    2\n",
       "10/14/2010 11:15:00 PM    2\n",
       "05/22/2017 01:33:00 PM    2\n",
       "09/20/2012 10:26:00 PM    2\n",
       "10/15/2015 03:34:00 PM    2\n",
       "12/21/2016 08:42:00 PM    2\n",
       "07/22/2015 10:49:00 AM    2\n",
       "03/15/2013 10:40:00 AM    2\n",
       "03/15/2018 07:29:00 PM    2\n",
       "09/12/2016 11:10:00 AM    2\n",
       "08/22/2016 02:44:00 PM    2\n",
       "08/16/2017 10:11:00 AM    2\n",
       "04/14/2017 02:13:00 PM    2\n",
       "04/29/2013 03:50:00 PM    2\n",
       "01/04/2012 11:47:00 AM    2\n",
       "02/25/2016 04:56:00 PM    2\n",
       "05/28/2012 05:11:00 PM    2\n",
       "                         ..\n",
       "07/25/2017 10:40:00 PM    1\n",
       "11/19/2015 10:42:00 AM    1\n",
       "07/24/2012 09:50:00 PM    1\n",
       "05/24/2017 06:42:00 AM    1\n",
       "02/28/2014 09:22:00 AM    1\n",
       "06/29/2012 06:48:00 PM    1\n",
       "02/29/2016 12:54:00 PM    1\n",
       "06/16/2015 01:22:00 PM    1\n",
       "04/03/2013 02:55:00 PM    1\n",
       "05/27/2015 02:22:00 PM    1\n",
       "02/26/2018 11:26:00 AM    1\n",
       "05/18/2017 09:27:00 AM    1\n",
       "10/01/2015 11:12:00 AM    1\n",
       "04/04/2011 03:41:00 PM    1\n",
       "09/09/2013 01:24:00 AM    1\n",
       "01/03/2017 04:17:00 PM    1\n",
       "04/28/2015 11:07:00 AM    1\n",
       "05/30/2012 01:44:00 PM    1\n",
       "08/22/2014 02:55:00 PM    1\n",
       "10/30/2013 02:09:00 PM    1\n",
       "02/02/2017 04:38:00 PM    1\n",
       "04/19/2012 09:24:00 AM    1\n",
       "05/21/2010 10:59:00 AM    1\n",
       "06/24/2018 12:32:00 PM    1\n",
       "11/04/2017 07:05:00 PM    1\n",
       "10/20/2016 04:23:00 PM    1\n",
       "04/16/2012 06:40:00 PM    1\n",
       "12/24/2012 09:53:00 AM    1\n",
       "10/29/2015 07:41:00 AM    1\n",
       "09/20/2011 11:01:00 AM    1\n",
       "Name: Created Date, Length: 10426, dtype: int64"
      ]
     },
     "execution_count": 19,
     "metadata": {},
     "output_type": "execute_result"
    }
   ],
   "source": [
    "df2['Created Date'].value_counts()"
   ]
  },
  {
   "cell_type": "code",
   "execution_count": null,
   "metadata": {},
   "outputs": [],
   "source": []
  }
 ],
 "metadata": {
  "kernelspec": {
   "display_name": "Python 3",
   "language": "python",
   "name": "python3"
  },
  "language_info": {
   "codemirror_mode": {
    "name": "ipython",
    "version": 3
   },
   "file_extension": ".py",
   "mimetype": "text/x-python",
   "name": "python",
   "nbconvert_exporter": "python",
   "pygments_lexer": "ipython3",
   "version": "3.6.5"
  }
 },
 "nbformat": 4,
 "nbformat_minor": 2
}
